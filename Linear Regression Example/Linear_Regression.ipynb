{
  "cells": [
    {
      "cell_type": "code",
      "metadata": {},
      "source": [
        "import  pandas as pd\n",
        "import numpy as np\n",
        "import matplotlib.pyplot as plt\n",
        "\n",
        "pd.set_option('display.max_rows', None)\n",
        "pd.set_option('display.max_columns', None)\n",
        "\n",
        "df=pd.read_csv(\"carprices.csv\")\n",
        "df.head()\n",
        "df.shape\n",
        "\n",
        "\n",
        "df.isna().sum()\n",
        "df=df.fillna(df.mean().round())\n",
        "\n",
        "\n",
        "plt.xlabel(\"Mileage\")\n",
        "plt.ylabel(\"Sell Price($)\")\n",
        "plt.title(\"First Corelations\")\n",
        "plt.scatter(df[\"Mileage\"],df[\"Sell Price($)\"])\n",
        "\n",
        "\n",
        "plt.xlabel(\"Age(yrs)\")\n",
        "plt.ylabel(\"Sell Price($)\")\n",
        "plt.title(\"First Corelations\")\n",
        "plt.scatter(df[\"Age(yrs)\"],df[\"Sell Price($)\"])\n",
        "\n",
        "\n",
        "X=df[[\"Mileage\",\"Age(yrs)\"]]\n",
        "y=df[\"Sell Price($)\"]\n",
        "\n",
        "\n",
        "from sklearn.model_selection import train_test_split\n",
        "\n",
        "X_train, X_test, y_train, y_test=train_test_split(X,y,test_size=0.3)\n",
        "\n",
        "from sklearn.linear_model import LinearRegression\n",
        "\n",
        "lr_mdl=LinearRegression()\n",
        "\n",
        "lr_mdl.fit(X_train, y_train)\n",
        "\n",
        "y_prd=lr_mdl.predict(X_test)\n",
        "\n",
        "\n",
        "print(lr_mdl.score(X_test,y_test))\n",
        "\n",
        "from sklearn import metrics\n",
        "print('Mean squared logarithmic error:', metrics.mean_squared_log_error(y_test, y_prd))\n",
        "\n",
        "\n",
        " "
      ],
      "outputs": [],
      "execution_count": null
    }
  ],
  "metadata": {
    "anaconda-cloud": {},
    "kernelspec": {
      "display_name": "Python 3",
      "language": "python",
      "name": "python3"
    },
    "language_info": {
      "codemirror_mode": {
        "name": "ipython",
        "version": 3
      },
      "file_extension": ".py",
      "mimetype": "text/x-python",
      "name": "python",
      "nbconvert_exporter": "python",
      "pygments_lexer": "ipython3",
      "version": "3.6.1"
    }
  },
  "nbformat": 4,
  "nbformat_minor": 4
}